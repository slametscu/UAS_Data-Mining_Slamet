{
 "cells": [
  {
   "cell_type": "markdown",
   "id": "ab0c2831",
   "metadata": {},
   "source": [
    "# Mengimpor pustaka"
   ]
  },
  {
   "cell_type": "code",
   "execution_count": 8,
   "id": "e6547923",
   "metadata": {},
   "outputs": [],
   "source": [
    "import pandas as pd\n",
    "from sklearn.datasets import load_iris\n",
    "from sklearn.model_selection import train_test_split\n",
    "from sklearn.naive_bayes import GaussianNB\n",
    "from sklearn.metrics import accuracy_score"
   ]
  },
  {
   "cell_type": "markdown",
   "id": "574555c5",
   "metadata": {},
   "source": [
    "# Memuat dataset Iris"
   ]
  },
  {
   "cell_type": "code",
   "execution_count": 4,
   "id": "1d03201f",
   "metadata": {},
   "outputs": [],
   "source": [
    "iris = load_iris()\n",
    "data = pd.DataFrame(data=iris.data, columns=iris.feature_names)\n",
    "data['target'] = iris.target"
   ]
  },
  {
   "cell_type": "markdown",
   "id": "4a254f4d",
   "metadata": {},
   "source": [
    "# Memproses data"
   ]
  },
  {
   "cell_type": "code",
   "execution_count": 5,
   "id": "e0ea4f62",
   "metadata": {},
   "outputs": [],
   "source": [
    "X = data.drop(columns=['target'])\n",
    "y = data['target']"
   ]
  },
  {
   "cell_type": "markdown",
   "id": "a389a80c",
   "metadata": {},
   "source": [
    "# Membagi data menjadi set pelatihan dan pengujian"
   ]
  },
  {
   "cell_type": "code",
   "execution_count": 6,
   "id": "a725b304",
   "metadata": {},
   "outputs": [],
   "source": [
    "X_latih, X_uji, y_latih, y_uji = train_test_split(X, y, test_size=0.3, random_state=42)"
   ]
  },
  {
   "cell_type": "markdown",
   "id": "b24f5e69",
   "metadata": {},
   "source": [
    "# Inisialisasi classifier Naive Bayes"
   ]
  },
  {
   "cell_type": "code",
   "execution_count": 7,
   "id": "641adfff",
   "metadata": {},
   "outputs": [],
   "source": [
    "nb = GaussianNB()"
   ]
  },
  {
   "cell_type": "markdown",
   "id": "dc8577bd",
   "metadata": {},
   "source": [
    "# Melatih model"
   ]
  },
  {
   "cell_type": "code",
   "execution_count": 9,
   "id": "69cdd52a",
   "metadata": {},
   "outputs": [
    {
     "data": {
      "text/plain": [
       "GaussianNB()"
      ]
     },
     "execution_count": 9,
     "metadata": {},
     "output_type": "execute_result"
    }
   ],
   "source": [
    "nb.fit(X_latih, y_latih)"
   ]
  },
  {
   "cell_type": "markdown",
   "id": "8241485f",
   "metadata": {},
   "source": [
    "# Memprediksi pada set pengujian"
   ]
  },
  {
   "cell_type": "code",
   "execution_count": 10,
   "id": "2f49ca22",
   "metadata": {},
   "outputs": [],
   "source": [
    "y_pred = nb.predict(X_uji)"
   ]
  },
  {
   "cell_type": "markdown",
   "id": "fc466a17",
   "metadata": {},
   "source": [
    "# Menghitung akurasi"
   ]
  },
  {
   "cell_type": "code",
   "execution_count": 11,
   "id": "5e2031a6",
   "metadata": {},
   "outputs": [
    {
     "name": "stdout",
     "output_type": "stream",
     "text": [
      "Akurasi: 0.9777777777777777\n"
     ]
    }
   ],
   "source": [
    "akurasi = accuracy_score(y_uji, y_pred)\n",
    "print(f'Akurasi: {akurasi}')"
   ]
  }
 ],
 "metadata": {
  "kernelspec": {
   "display_name": "Python 3 (ipykernel)",
   "language": "python",
   "name": "python3"
  },
  "language_info": {
   "codemirror_mode": {
    "name": "ipython",
    "version": 3
   },
   "file_extension": ".py",
   "mimetype": "text/x-python",
   "name": "python",
   "nbconvert_exporter": "python",
   "pygments_lexer": "ipython3",
   "version": "3.9.12"
  }
 },
 "nbformat": 4,
 "nbformat_minor": 5
}
